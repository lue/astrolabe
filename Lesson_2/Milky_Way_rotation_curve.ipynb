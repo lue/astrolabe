{
 "metadata": {
  "name": "",
  "signature": "sha256:910366216582841647c94c9205a309ee532a986e05b16e3b050d73e6e60ac5d3"
 },
 "nbformat": 3,
 "nbformat_minor": 0,
 "worksheets": [
  {
   "cells": [
    {
     "cell_type": "markdown",
     "metadata": {},
     "source": [
      "A few drops of theory\n",
      "=====================\n",
      "\n",
      "In this lesson we sill extract the rotation curve of the galaxy we live in. Milky W\n",
      "\n",
      "![Alt text](pictures/figure_1.png)\n",
      "\n",
      "\u0411\u043b\u0430\u0433\u043e\u0434\u0430\u0440\u044f [[\u042d\u0444\u0444\u0435\u043a\u0442 \u0414\u043e\u043f\u043b\u0435\u0440\u0430|\u044d\u0444\u0444\u0435\u043a\u0442\u0443 \u0414\u043e\u043f\u043b\u0435\u0440\u0430]] \u043c\u044b \u043c\u043e\u0436\u0435\u043c \u043e\u043f\u0440\u0435\u0434\u0435\u043b\u044f\u0442\u044c \u0441\u043a\u043e\u0440\u043e\u0441\u0442\u044c \u043e\u0431\u044a\u0435\u043a\u0442\u043e\u0432 \u043f\u043e \u0441\u043c\u0435\u0449\u0435\u043d\u0438\u044e \u0438\u0445 \u0441\u043f\u0435\u043a\u0442\u0440\u0430\u043b\u044c\u043d\u044b\u0445 \u043b\u0438\u043d\u0438\u0439. \u0412 \u0434\u0430\u043d\u043d\u043e\u043c \u0441\u043b\u0443\u0447\u0430\u0435 \u043c\u044b \u0431\u0443\u0434\u0435\u043c \u0441\u043c\u043e\u0442\u0440\u0435\u0442\u044c \u043d\u0430 \u043b\u0438\u043d\u0438\u044e 21 \u0441\u043c, \u043a\u043e\u0442\u043e\u0440\u0430\u044f \u0441\u0432\u044f\u0437\u0430\u043d\u0430 \u0441 \u0438\u0437\u043b\u0443\u0447\u0435\u043d\u0438\u0435\u043c \u0430\u0442\u043e\u043c\u043e\u0432 \u043d\u0435\u0439\u0442\u0440\u0430\u043b\u044c\u043d\u043e\u0433\u043e \u0432\u043e\u0434\u043e\u0440\u043e\u0434\u0430. \u041d\u0435 \u0432\u0434\u0430\u0432\u0430\u044f\u0441\u044c \u0432 \u043f\u043e\u0434\u0440\u043e\u0431\u043d\u043e\u0441\u0442\u0438 \u043a\u0432\u0430\u043d\u0442\u043e\u0432\u043e\u0439 \u0444\u0438\u0437\u0438\u043a\u0438, \u043c\u044b \u043f\u0440\u043e\u0441\u0442\u043e \u0431\u0443\u0434\u0435\u043c \u0438\u0441\u043a\u0430\u0442\u044c \u044d\u0442\u0443 \u043b\u0438\u043d\u0438\u044e \u043d\u0430 \u043d\u0435\u0431\u0435\u0441\u043d\u043e\u0439 \u0441\u0444\u0435\u0440\u0435. \u041f\u043e\u0441\u043c\u043e\u0442\u0440\u0438\u043c \u043d\u0430 '''\u0420\u0438\u0441. 1'''. \u0416\u0451\u043b\u0442\u044b\u0439 \u0432\u0435\u043a\u0442\u043e\u0440 \u043f\u043e\u043a\u0430\u0437\u044b\u0432\u0430\u0435\u0442 \u043d\u0435\u043a\u043e\u0442\u043e\u0440\u043e\u0435 \u043d\u0430\u043f\u0440\u0430\u0432\u043b\u0435\u043d\u0438\u0435, \u0432 \u043e\u043a\u0442\u043e\u0440\u043e\u043c \u043c\u044b \u0441\u043c\u043e\u0442\u0440\u0438\u043c. \u041f\u0443\u0441\u0442\u044c $\\alpha$ \u0431\u0443\u0434\u0435\u0442 \u0440\u0430\u0441\u0442\u0432\u043e\u0440\u043e\u043c \u0443\u0433\u043b\u0430, \u043e\u0431\u0440\u0430\u0437\u043e\u0432\u0430\u043d\u043d\u044b\u043c \u043d\u0430\u043f\u0440\u0430\u0432\u043b\u0435\u043d\u0438\u0435\u043c \u043a \u0446\u0435\u043d\u0442\u0440\u0443 \u0413\u0430\u043b\u0430\u043a\u0442\u0438\u043a\u0438 \u0438 \u043b\u0443\u0447\u043e\u043c \u0437\u0440\u0435\u043d\u0438\u044f. \u0420\u0430\u0441\u0441\u0442\u043e\u044f\u043d\u0438\u044f \u043e\u0442 \u0421\u043e\u043b\u043d\u0446\u0430 \u0434\u043e \u0446\u0435\u043d\u0442\u0440\u0430 \u0413\u0430\u043b\u0430\u043a\u0442\u0438\u043a\u0438 \u043e\u0431\u043e\u0437\u043d\u0430\u0447\u0438\u043c \u0437\u0430 $R_*$. \u041f\u0443\u0441\u0442\u044c \u043c\u044b \u043d\u0430\u0431\u043b\u044e\u0434\u0430\u0435\u043c \u0442\u0440\u0438 \u043e\u0431\u043b\u0430\u043a\u0430 \u0432 \u044d\u0442\u043e\u043c \u043d\u0430\u043f\u0440\u0430\u0432\u043b\u0435\u043d\u0438\u0438: **A**, **\u0411** \u0438 **\u0412**. \u041f\u0440\u0435\u0434\u043f\u043e\u043b\u043e\u0436\u0438\u043c, \u0447\u0442\u043e \u043a\u0430\u0436\u0434\u043e\u0435 \u0438\u0437 \u043d\u0438\u0445 \u0434\u0432\u0438\u0436\u0435\u0442\u0441\u044f \u043f\u043e \u043e\u043a\u0440\u0443\u0436\u043d\u043e\u0441\u0442\u0438 \u0438 ''\u043c\u043e\u0434\u0443\u043b\u044c \u0441\u043a\u043e\u0440\u043e\u0441\u0442\u0438 \u043f\u043e \u043a\u0440\u0430\u0439\u043d\u0435\u0439 \u043c\u0435\u0440\u0435 \u043d\u0435 \u0441\u043b\u0438\u0448\u043a\u043e\u043c \u0431\u044b\u0441\u0442\u0440\u043e \u0432\u043e\u0437\u0440\u0430\u0441\u0442\u0430\u0435\u0442 \u043f\u043e \u043c\u0435\u0440\u0435 \u0443\u0434\u0430\u043b\u0435\u043d\u0438\u044f \u043e\u0442 \u0446\u0435\u043d\u0442\u0440\u0430''. \u0417\u0430\u0447\u0435\u043c \u043d\u0430\u043c \u0442\u0430\u043a\u0438\u0435 \u043f\u0440\u0435\u0434\u043f\u043e\u043b\u043e\u0436\u0435\u043d\u0438\u044f \u0441\u0442\u0430\u043d\u0435\u0442 \u044f\u0441\u043d\u043e \u043f\u043e\u0437\u0434\u043d\u0435\u0435.\n",
      "\n",
      "\u041f\u043e \u043f\u043e\u0441\u0442\u0440\u043e\u0435\u043d\u0438\u044e \u0440\u0438\u0441\u0443\u043d\u043a\u0430 \u0437\u0430\u043c\u0435\u0442\u0438\u043c, \u0447\u0442\u043e \u043b\u0443\u0447 \u043d\u0430\u043f\u0440\u0430\u0432\u043b\u0435\u043d \u043f\u043e \u043a\u0430\u0441\u0430\u0442\u0435\u043b\u044c\u043d\u043e\u0439 \u043a \u043e\u0440\u0431\u0438\u0442\u0435 \u043e\u0431\u043b\u0430\u043a\u0430 '''\u0411'''. \u0421\u043b\u0435\u0434\u043e\u0432\u0430\u0442\u0435\u043b\u044c\u043d\u043e \u043f\u0440\u043e\u0435\u043a\u0446\u0438\u044f \u0432\u0435\u043a\u0442\u043e\u0440\u0430 \u0441\u043a\u043e\u0440\u043e\u0441\u0442\u0438 '''\u0411''' \u043d\u0430 \u043b\u0443\u0447 \u0437\u0440\u0435\u043d\u0438\u044f \u0441\u043e\u0432\u043f\u0430\u0434\u0430\u0435\u0442 \u0441 \u043d\u0438\u043c \u0441\u0430\u043c\u0438\u043c. \u041f\u043e\u044d\u0442\u043e\u043c\u0443 \u0438\u0441\u043a\u043b\u044e\u0447\u0438\u0442\u0435\u043b\u044c\u043d\u043e \u0438\u0437 \u0440\u0438\u0441\u0443\u043d\u043a\u0430 \u043c\u044b \u043c\u043e\u0436\u0435\u043c \u0437\u0430\u043a\u043b\u044e\u0447\u0438\u0442\u044c, \u0447\u0442\u043e ''\u043f\u0440\u043e\u0435\u043a\u0446\u0438\u044f \u0441\u043a\u043e\u0440\u043e\u0441\u0442\u044c \u043e\u0431\u043b\u0430\u043a\u0430 '''\u0411''' \u043d\u0430\u0438\u0432\u044b\u0441\u0448\u0430\u044f''. \u0421\u043c. '''\u0420\u0438\u0441. 2'''. \n",
      "[[\u0424\u0430\u0439\u043b:3_clouds_velocity_space.png|300px|thumb|right|\u0420\u0438\u0441. 2]]\n",
      "\u041f\u043e\u044d\u0442\u043e\u043c\u0443, \u043d\u0430\u0431\u043b\u044e\u0434\u0430\u044f \u0432 \u0434\u0430\u043d\u043d\u043e\u043c \u043d\u0430\u043f\u0440\u0430\u0432\u043b\u0435\u043d\u0438\u0438 \u043c\u0430\u043a\u0441\u0438\u043c\u0430\u043b\u044c\u043d\u0443\u044e \u0441\u043a\u043e\u0440\u043e\u0441\u0442\u044c, \u043c\u044b \u0430\u0432\u0442\u043e\u043c\u0430\u0442\u0438\u0447\u0435\u0441\u043a\u0438 \u043d\u0430\u0445\u043e\u0434\u0438\u043c \u0441\u043a\u043e\u0440\u043e\u0441\u0442\u044c \u043d\u0430 \u043e\u0440\u0431\u0438\u0442\u0435 '''\u0411'''. \u0420\u0430\u0434\u0438\u0443\u0441 \u044d\u0442\u043e\u0439 \u043e\u0440\u0431\u0438\u0442\u044b \u043e\u043f\u0440\u0435\u0434\u0435\u043b\u044f\u0435\u0442\u0441\u044f \u0442\u043e\u0436\u0435 \u0432\u0435\u0441\u044c\u043c\u0430 \u043b\u0435\u0433\u043a\u043e: $R_\u0411 = R_* \\times \\sin(\\alpha)$.\n",
      "\n",
      "\u0418\u0442\u043e\u0433\u043e\u0432\u0430\u044f \u043e\u0442\u043d\u043e\u0441\u0438\u0442\u0435\u043b\u044c\u043d\u0430\u044f \u0441\u043a\u043e\u0440\u043e\u0441\u0442\u044c \u043c\u0435\u0436\u0434\u0443 \u043d\u0430\u043c\u0438 \u0438 \u043e\u0431\u043b\u0430\u043a\u043e\u043c '''\u0411''' \u0431\u0443\u0434\u0435\u0442 \u0440\u0430\u0437\u043d\u043e\u0441\u0442\u044c\u044e \u043f\u0440\u043e\u0435\u043a\u0446\u0438\u0439 \u043d\u0430 \u043b\u0443\u0447 \u0437\u0440\u0435\u043d\u0438\u044f \u0441\u043a\u043e\u0440\u043e\u0441\u0442\u0438 \u0421\u043e\u043b\u043d\u0446\u0430 \u0438 \u0441\u043a\u043e\u0440\u043e\u0441\u0442\u0438 \u043e\u0431\u043b\u0430\u043a\u0430 '''\u0411''': \n",
      "$$v_{\u041d\u0430\u0431\u043b\u044e\u0434\u0430\u0435\u043c\u0430\u044f} = v_\u0411 - \\sin(\\alpha) \\times v_{\u0421\u043e\u043b\u043d\u0446\u0435},$$\n",
      "$$v_\u0411 = v_{\u041d\u0430\u0431\u043b\u044e\u0434\u0430\u0435\u043c\u0430\u044f} \\sin(\\alpha) \\times v_{\u0421\u043e\u043b\u043d\u0446\u0435}$$\n",
      "\n",
      "\u0410\u043b\u0433\u043e\u0440\u0438\u0442\u043c:\n",
      "\n",
      "1. \u0412\u044b\u0431\u0438\u0440\u0430\u0435\u043c \u043b\u0443\u0447 \u0437\u0440\u0435\u043d\u0438\u044f.\n",
      "2. \u041d\u0430\u0445\u043e\u0434\u0438\u043c \u0441\u043e\u043e\u0442\u0432\u0435\u0442\u0441\u0432\u0443\u044e\u0449\u0443\u044e \u0435\u043c\u0443 \u043e\u0440\u0431\u0438\u0442\u0443:  $R_\u0411 = R_* \\times \\sin(\\alpha)$\n",
      "3. \u0421\u043c\u043e\u0442\u0440\u0438\u043c \u043d\u0430 \u0442\u043e, \u043a\u0430\u043a\u0438\u0435 \u043e\u0431\u043b\u0430\u043a\u0430 \u0435\u0441\u0442\u044c \u0432 \u044d\u0442\u043e\u043c \u043d\u0430\u043f\u0440\u0430\u0432\u043b\u0435\u043d\u0438\u0438 (\u0441\u043c. \u0420\u0438\u0441. 3 \u0434\u043b\u044f \u043f\u0440\u0438\u043c\u0435\u0440\u0430). \u041d\u0430\u0445\u043e\u0434\u0438\u043c \u043e\u0431\u043b\u0430\u043a\u043e \u0441 \u043c\u0430\u043a\u0441\u0438\u043c\u0430\u043b\u044c\u043d\u043e\u0439 \u0441\u043a\u043e\u0440\u043e\u0441\u0442\u044c\u044e \u0438 \u0437\u0430\u043f\u0438\u0441\u044b\u0432\u0430\u0435\u043c \u044d\u0442\u0443 \u0432\u0435\u043b\u0438\u0447\u0438\u043d\u0443: $v_\u0411$.\n",
      "4. \u041f\u043e\u043b\u0443\u0447\u0430\u0435\u043c \u0437\u0430\u0432\u0438\u0441\u0438\u043c\u043e\u0441\u0442\u044c $v_\u0411(R_\u0411)$\n",
      "5. \u041f\u043e\u0432\u0442\u043e\u0440\u044f\u0435\u043c \u0434\u043b\u044f \u0441\u043b\u0435\u0434\u0443\u044e\u0449\u0435\u0433\u043e \u043b\u0443\u0447\u0430 \u0437\u0440\u0435\u043d\u0438\u044f..."
     ]
    },
    {
     "cell_type": "code",
     "collapsed": false,
     "input": [],
     "language": "python",
     "metadata": {},
     "outputs": []
    },
    {
     "cell_type": "markdown",
     "metadata": {},
     "source": []
    },
    {
     "cell_type": "markdown",
     "metadata": {},
     "source": [
      "Observational data\n",
      "==================\n",
      "\n",
      "Reading\n",
      "-------\n",
      "\n",
      "\n",
      "\u041c\u044b \u0431\u0443\u0434\u0435\u043c \u0438\u0441\u043f\u043e\u043b\u044c\u0437\u043e\u0432\u0430\u0442\u044c \u0431\u0430\u0437\u0443 \u0434\u0430\u043d\u043d\u044b\u0445 LAB: \n",
      "http://www.astro.uni-bonn.de/en/download/data/lab-survey/\n",
      "\n",
      "\u0414\u043b\u044f \u043f\u0440\u0438\u043c\u0435\u0440\u0430 \u043c\u043e\u0436\u043d\u043e \u0432\u0432\u0435\u0441\u0442\u0438 \u043d\u0430\u043f\u0440\u0430\u0432\u043b\u0435\u043d\u0438\u0435 \u0438 \u043f\u043e\u043b\u0443\u0447\u0438\u0442\u044c \u0434\u0430\u043d\u043d\u044b\u0435 \u0441 \u043f\u043e\u043c\u043e\u0449\u044c\u044e web-\u0438\u043d\u0442\u0435\u0440\u0444\u0435\u0439\u0441\u0430 http://www.astro.uni-bonn.de/hisurvey/profile/index.php (\u0441\u043c. \u0420\u0438\u0441. 3).\n",
      "\n",
      "\u041c\u044b \u0432\u0438\u0434\u0438\u043c \u043d\u0435\u0441\u043a\u043e\u043b\u044c\u043a\u043e \u043e\u0431\u043b\u0430\u043a\u043e\u0432 \u0432 \u0443\u043a\u0430\u0437\u0430\u043d\u043d\u043e\u043c \u043d\u0430\u043f\u0440\u0430\u0432\u043b\u0435\u043d\u0438, \u0443 \u043a\u0430\u0436\u0434\u043e\u0433\u043e \u0443\u043a\u0430\u0437\u0430\u043d\u0430 \u0441\u043a\u043e\u0440\u043e\u0441\u0442\u044c. \u0422\u0430\u043a\u0438\u043c \u043e\u0431\u0440\u0430\u0437\u043e\u043c \u043c\u044b \u043c\u043e\u0433\u043b\u0438 \u0431\u044b \u0440\u0443\u043a\u0430\u043c\u0438 \u043f\u0440\u043e\u0439\u0442\u0438\u0441\u044c \u043f\u043e \u0432\u0441\u0435\u043c \u0443\u0433\u043b\u0430\u043c \u0438 \u0437\u0430\u043f\u0438\u0441\u0430\u0442\u044c \u0432 \u043a\u0430\u043a\u0438\u0435 \u0435\u0441\u0442\u044c \u043e\u0431\u043b\u0430\u043a\u0430 \u0432 \u043a\u0430\u0436\u0434\u043e\u043c \u043d\u0430\u043f\u0440\u0430\u0432\u043b\u0435\u043d\u0438\u0438. \u041d\u043e \u044d\u0442\u043e \u043d\u0435\u0440\u0430\u0446\u0438\u043e\u043d\u0430\u043b\u044c\u043d\u043e. \u041b\u0443\u0447\u0448\u0435 \u043d\u0430\u043f\u0438\u0441\u0430\u0442\u044c \u043f\u0440\u043e\u0433\u0440\u0430\u043c\u043c\u0443, \u043a\u043e\u0442\u043e\u0440\u0430\u044f \u044d\u0442\u043e \u0441\u0434\u0435\u043b\u0430\u0435\u0442 \u0437\u0430 \u043d\u0430\u0441. \u0414\u043b\u044f \u044d\u0442\u043e\u0433\u043e \u043d\u0430\u043c \u043f\u043e\u0442\u0440\u0435\u0431\u0443\u044e\u0442\u0441\u044f \u0441\u044b\u0440\u044b\u0435 \u0434\u0430\u043d\u043d\u044b\u0435. \u0418\u0445 \u043c\u043e\u0436\u043d\u043e \u043d\u0430\u0439\u0442\u0438, \u043d\u0430\u043f\u0440\u0438\u043c\u0435\u0440, \u0442\u0443\u0442:\n",
      "http://vizier.china-vo.org/ftp/cats/8/76/\n",
      "\u0412 \u043a\u0430\u0442\u0430\u043b\u043e\u0433\u0435 \u043c\u044b \u0432\u0438\u0434\u0438\u043c \u043c\u043d\u043e\u0436\u0435\u0441\u0442\u0432\u043e \u0444\u0430\u0439\u043b\u043e\u0432. \u0412 ReadMe \u043c\u044b \u043c\u043e\u0436\u0435\u043c \u043f\u0440\u043e\u0447\u0438\u0442\u0430\u0442\u044c \u0447\u0435\u043c \u043e\u043d\u0438 \u043e\u0442\u043b\u0438\u0447\u0430\u044e\u0442\u0441\u044f. \u041d\u0435 \u0432\u0434\u0432\u0430\u044f\u0441\u044c \u0432 \u043f\u043e\u0434\u0440\u043e\u0431\u043d\u043e\u0441\u0442\u0438, \u043d\u0430\u043c \u043f\u043e\u0434\u043e\u0439\u0434\u0451\u0442 \u0444\u0430\u0439\u043b '''lab250h.fit'''. \u041e\u043d \u0437\u0430\u0430\u0440\u0445\u0438\u0432\u0438\u0440\u043e\u0432\u0430\u043d \u0432 \u0444\u043e\u0440\u043c\u0430\u0442 gz, \u043d\u0430 \u0432\u0441\u044f\u043a\u0438\u0439 \u0441\u043b\u0443\u0447\u0430\u0439 \u0432\u044b\u043a\u043b\u0430\u0434\u044b\u0432\u0430\u044e \u0432 \u0440\u0430\u0441\u043f\u0430\u043a\u043e\u0432\u0430\u043d\u043d\u043e\u043c \u0432\u0438\u0434\u0435: https://www.dropbox.com/s/xm4tmxwcbh8tsy3/lab250h.fit\n",
      "\n",
      "\u0424\u043e\u0440\u043c\u0430\u0442 **fits** \u0441\u0430\u043c\u044b\u0439 \u0440\u0430\u0441\u043f\u0440\u043e\u0442\u0440\u0430\u043d\u0451\u043d\u043d\u044b\u0439 \u0444\u043e\u0440\u043c\u0430\u0442 \u0434\u0430\u043d\u043d\u044b\u0445 \u0432 \u0430\u0441\u0442\u0440\u043e\u043d\u043e\u043c\u0438\u0438. \u0414\u043b\u044f \u0435\u0433\u043e \u043f\u0440\u043e\u0447\u0442\u0435\u043d\u0438\u044f \u043f\u0440\u0435\u0434\u0443\u0441\u043c\u043e\u0442\u0440\u0435\u043d\u0430 \u0431\u0438\u0431\u043b\u0438\u043e\u0442\u0435\u043a\u0430 \u0434\u043b\u044f \u041f\u0438\u0442\u043e\u043d\u0430, \u043d\u0430\u0437\u044b\u0432\u0430\u0435\u043c\u0430\u044f **pyfits**. \u041d\u0430\u0447\u043d\u0451\u043c \u043f\u0438\u0441\u0430\u0442\u044c \u043f\u0440\u043e\u0433\u0440\u0430\u043c\u043c\u0443:\n",
      "\n",
      "\n",
      "\u0412\u0438\u0434\u0438\u043c \u0441\u043b\u0435\u0434\u0443\u044e\u0449\u0435\u0435:                                                                                \n",
      "\u041f\u0435\u0440\u0432\u044b\u0435 \u0441\u0442\u0440\u043e\u0447\u043a\u0438 \u043d\u0430\u043c \u0433\u043e\u0432\u043e\u0440\u044f\u0442, \u0447\u0442\u043e \u0432 \u0434\u0430\u043d\u043d\u043e\u043c \u0444\u0430\u0439\u043b\u0435 \u0445\u0440\u0430\u043d\u0438\u0442\u0441\u044f \u0442\u0440\u0451\u0445\u043c\u0435\u0440\u043d\u044b\u0439 \u043c\u0430\u0441\u0441\u0438\u0432. \u0415\u0433\u043e \u0440\u0430\u0437\u043c\u0435\u0440\u044b 721x361x485.\n",
      "<syntaxhighlight lang=\"python\">\n",
      "NAXIS   =                    3 / number of data axes                            \n",
      "NAXIS1  =                  721 / length of data axis 1                          \n",
      "NAXIS2  =                  361 / length of data axis 2                          \n",
      "NAXIS3  =                  485 / length of data axis 3       \n",
      "</syntaxhighlight>\n",
      "\n",
      "\u0414\u0430\u043b\u0435\u0435 \u0438\u0434\u0451\u0442 \u0438\u043d\u0444\u043e\u0440\u043c\u0430\u0446\u0438\u044f \u043e\u0431 \u043e\u0441\u044f\u0445. \u041f\u043e \u043f\u0435\u0440\u0432\u043e\u0439 \u043e\u0441\u0438 \u043c\u044b \u0438\u043c\u0435\u0435\u043c:\n",
      "<syntaxhighlight lang=\"python\">\n",
      "CTYPE1  = 'GLON-CAR'           / axis type                                      \n",
      "CRVAL1  =   1.800000000000E+02 / longitude                                      \n",
      "CRPIX1  =                    1 / ref pixel                                      \n",
      "CDELT1  =  -5.000000000000E-01 / longitude increment                            \n",
      "CROTA1  =   0.000000000000E+00 / longitude rotation                             \n",
      "CUNIT1  = 'DEG     '           / unit type   \n",
      "</syntaxhighlight>\n",
      "\n",
      "Longitude - \u0434\u043e\u043b\u0433\u043e\u0442\u0430/\u043c\u0435\u0440\u0438\u0434\u0438\u0430\u043d.\n",
      "\u041f\u0435\u0440\u0432\u0430\u044f \u044f\u0447\u0435\u0439\u043a\u0430 \u0441\u043e\u043e\u0442\u0432\u0435\u0442\u0441\u0432\u0443\u0435\u0442 1.8E+02 DEG, \u0442\u043e \u0435\u0441\u0442\u044c 180 \u0433\u0440\u0430\u0434\u0443\u0441\u043e\u0432. \u0428\u0430\u0433, CDELT1, -0.5 \u0433\u0440\u0430\u0434\u0443\u0441\u043e\u0432. \u0412\u0441\u0435\u0433\u043e \u044f\u0447\u0435\u0435\u043a 721. \u0418\u0442\u043e\u0433\u043e \u043a\u043e\u043e\u0440\u0434\u0438\u043d\u0430\u0442\u044b \u044f\u0447\u0435\u0435\u043a:\n",
      "\n",
      "<syntaxhighlight lang=\"python\">\n",
      "180.0 179.5 179.0 ... 1.0 0.5 0 -0.5 -1.0 ... -179.0 -179.5 -180.0   \n",
      "</syntaxhighlight>  \n",
      "\n",
      "\u0410\u043d\u0430\u043b\u043e\u0433\u0438\u0447\u043d\u043e \u0438\u043c\u0435\u0435\u043c \u0434\u0430\u043b\u0435\u0435 \u0434\u043b\u044f \u0432\u0442\u043e\u0440\u043e\u0439 \u043e\u0441\u0438:\n",
      "<syntaxhighlight lang=\"python\">\n",
      "CTYPE2  = 'GLAT-CAR'           / axis type                                      \n",
      "CRVAL2  =  -9.000000000000E+01 / latitude                                       \n",
      "CRPIX2  =                    1 / ref pixel                                      \n",
      "CDELT2  =   5.000000000000E-01 / longitude increment                            \n",
      "CROTA2  =   0.000000000000E+00 / latitude rotation                              \n",
      "CUNIT2  = 'DEG     '           / unit type   \n",
      "</syntaxhighlight>  \n",
      "Latitude - \u0448\u0438\u0440\u043e\u0442\u0430. \u041f\u043e \u0430\u043d\u0430\u043b\u043e\u0433\u0438\u0438 \u043a\u043e\u043e\u0440\u0434\u0438\u043d\u0430\u0442\u044b:\n",
      "\n",
      "<syntaxhighlight lang=\"python\">\n",
      "-90.0 -89.5 -89.0 ... -1.0 -0.5 0.0 0.5 1.0 ... 89.0 89.5 90.0   \n",
      "</syntaxhighlight> \n",
      "\n",
      "\u0422\u0440\u0435\u0442\u044c\u044f \u043e\u0441\u044c - \u0441\u043a\u043e\u0440\u043e\u0441\u0442\u0438 (velocity):\n",
      "<syntaxhighlight lang=\"python\">\n",
      "CRVAL3  =  -2.493984165155E+05 / velocity                                       \n",
      "CRPIX3  =                    1 / ref pixel                                      \n",
      "CDELT3  =   1.030571969000E+03 / velocity increment                             \n",
      "CROTA3  =   0.000000000000E+00 / velocity rotation                              \n",
      "CUNIT3  = 'M/S     '           / unit type             \n",
      "</syntaxhighlight>\n"
     ]
    },
    {
     "cell_type": "code",
     "collapsed": false,
     "input": [
      "import numpy as np\n",
      "import matplotlib.pyplot as plt\n",
      "\n",
      "#### Comment these two lines if you do not use iPython ####\n",
      "from IPython.core.display import Image\n",
      "%matplotlib inline\n",
      "####\n",
      "\n",
      "# Importing pyfits:\n",
      "import pyfits\n",
      "\n",
      "hdu = pyfits.open('data/lab250h.fit')"
     ],
     "language": "python",
     "metadata": {},
     "outputs": [],
     "prompt_number": 19
    },
    {
     "cell_type": "markdown",
     "metadata": {},
     "source": [
      "File is loaded, let's look at its header:"
     ]
    },
    {
     "cell_type": "code",
     "collapsed": false,
     "input": [
      "hdu[0].header"
     ],
     "language": "python",
     "metadata": {},
     "outputs": [
      {
       "metadata": {},
       "output_type": "pyout",
       "prompt_number": 5,
       "text": [
        "SIMPLE  =                    T / file does conform to FITS standard             \n",
        "BITPIX  =                   16 / number of bits per data pixel                  \n",
        "NAXIS   =                    3 / number of data axes                            \n",
        "NAXIS1  =                  721 / length of data axis 1                          \n",
        "NAXIS2  =                  361 / length of data axis 2                          \n",
        "NAXIS3  =                  485 / length of data axis 3                          \n",
        "COMMENT   FITS (Flexible Image Transport System) format is defined in 'Astronomy\n",
        "COMMENT   and Astrophysics', volume 376, page 359; bibcode: 2001A&A...376..359H \n",
        "CTYPE1  = 'GLON-CAR'           / axis type                                      \n",
        "CRVAL1  =   1.800000000000E+02 / longitude                                      \n",
        "CRPIX1  =                    1 / ref pixel                                      \n",
        "CDELT1  =  -5.000000000000E-01 / longitude increment                            \n",
        "CROTA1  =   0.000000000000E+00 / longitude rotation                             \n",
        "CUNIT1  = 'DEG     '           / unit type                                      \n",
        "CTYPE2  = 'GLAT-CAR'           / axis type                                      \n",
        "CRVAL2  =  -9.000000000000E+01 / latitude                                       \n",
        "CRPIX2  =                    1 / ref pixel                                      \n",
        "CDELT2  =   5.000000000000E-01 / longitude increment                            \n",
        "CROTA2  =   0.000000000000E+00 / latitude rotation                              \n",
        "CUNIT2  = 'DEG     '           / unit type                                      \n",
        "CTYPE3  = 'VELO-LSR'           / axis type                                      \n",
        "CRVAL3  =  -2.493984165155E+05 / velocity                                       \n",
        "CRPIX3  =                    1 / ref pixel                                      \n",
        "CDELT3  =   1.030571969000E+03 / velocity increment                             \n",
        "CROTA3  =   0.000000000000E+00 / velocity rotation                              \n",
        "CUNIT3  = 'M/S     '           / unit type                                      \n",
        "PROJ    = 'FLAT    '           / type of projection                             \n",
        "SYSTEM  = 'GALACTIC'           / coordinate system                              \n",
        "BUNIT   = 'K       '           / map units                                      \n",
        "OBSTYP  = 'LINE    '           / type of observation                            \n",
        "FREQ0   =   1.420405752000E+09 / rest frequency in Hz                           \n",
        "RESTFREQ=   1.420405752000E+09 / rest frequency in Hz                           \n",
        "DATAMIN =  -1.000000000000E+01 / map minimum                                    \n",
        "COMMENT absorption features truncated at this limit                             \n",
        "DATAMAX =   1.519149932861E+02 / map maximum                                    \n",
        "BZERO   =   7.000000000000E+01                                                  \n",
        "BSCALE  =   2.500000000000E-03                                                  \n",
        "BLANK   =               -32768 / blank value                                    \n",
        "COMMENT ------------- Hanning smoothed version --------------                   \n",
        "OBJECT  = 'Leiden/Argentine/Bonn Galactic HI Survey'                            \n",
        "COMMENT ------------- Hanning smoothed version --------------                   \n",
        "COMMENT Velocity resolution degraded to 1.9 km/s                                \n",
        "TELESCOP= 'Dwingeloo - Villa Elisa' / telescopes                                \n",
        "COMMENT The Dwingeloo 25-m telescope was used for DEC > -27 deg,                \n",
        "COMMENT the Villa Elisa 30-m telescope for DEC < -25 deg.                       \n",
        "COMMENT The beam FWHM for the 25-m telescope is 35.7 arcmin,                    \n",
        "COMMENT the beam FWHM for the 30-m telescope is 30.0 arcmin.                    \n",
        "COMMENT Regridding was by Gaussian interpolation (18 arcmin),                   \n",
        "COMMENT leading to the following effective resolution (FWHM):                   \n",
        "COMMENT 40 arcmin for DEC > -27 deg, 35 arcmin for DEC < -25 deg                \n",
        "COMMENT 37.5 arcmin for -27 < DEC < -25 deg (overlap)                           \n",
        "COMMENT Note: the grid of 30 arcmin violates Nyquist sampling                   \n",
        "DATE    = '2004-12-09'         / final data release                             \n",
        "REFERENC= 'Kalberla et al. (2005) A&A 440, 775' / see also below                \n",
        "COMMENT The reference to Kalberla, P.M.W., Burton, W.B., Hartmann,              \n",
        "COMMENT Dap, Arnal, E.M., Bajaja, E., Morras, R., and  P\\\"oppel, W.G.L.         \n",
        "COMMENT (2005) A&A 440, 775 describes the merger of the                         \n",
        "COMMENT northern (dec > -27) HI survey of Hartmann & Burton (1997)              \n",
        "COMMENT made with the Dwingeloo 25-meter telescope with the                     \n",
        "COMMENT southern (dec < -25) survey of Bajaja et al. (2005)                     \n",
        "COMMENT made with the IAR 30-meter telescope, as well as refined                \n",
        "COMMENT corrections for stray radiation possible because of the                 \n",
        "COMMENT availability of the all-sky coverage.                                   \n",
        "COMMENT Depending on the region of the sky being studied, please                \n",
        "COMMENT cite, in addition to the Kalberla et al. (2005) reference,              \n",
        "COMMENT also the appropriate source of the material used, namely                \n",
        "COMMENT Hartmann & Burton (1997, Cambridge University Press, ISBN 0521471117)   \n",
        "COMMENT and/or Arnal et al. (2000), A&AS, 142, 35,                              \n",
        "COMMENT Bajaja et al. (2005, A&A 440, 767)                                      \n",
        "COMMENT Observers were Dap Hartmann and W.B. Burton (Leiden University),        \n",
        "COMMENT for the Dwingeloo telescope, and E.M. Arnal, E. Bajaja, J.J.            \n",
        "COMMENT Larrarte, R. Morras, & W.G.L. Poeppel (Argentine Institute for          \n",
        "COMMENT Radio Astronomy), for the Villa Elisa telescope.                        \n",
        "COMMENT Correction for stray radiation and combination of the data              \n",
        "COMMENT by P.M.W. Kalberla (Bonn University).                                   "
       ]
      }
     ],
     "prompt_number": 5
    },
    {
     "cell_type": "markdown",
     "metadata": {},
     "source": [
      "\u041f\u0435\u0440\u0432\u044b\u0435 \u0441\u0442\u0440\u043e\u0447\u043a\u0438 \u043d\u0430\u043c \u0433\u043e\u0432\u043e\u0440\u044f\u0442, \u0447\u0442\u043e \u0432 \u0434\u0430\u043d\u043d\u043e\u043c \u0444\u0430\u0439\u043b\u0435 \u0445\u0440\u0430\u043d\u0438\u0442\u0441\u044f \u0442\u0440\u0451\u0445\u043c\u0435\u0440\u043d\u044b\u0439 \u043c\u0430\u0441\u0441\u0438\u0432. \u0415\u0433\u043e \u0440\u0430\u0437\u043c\u0435\u0440\u044b 721x361x485.\n",
      "\n",
      "\n",
      "    NAXIS   =                    3 / number of data axes                            \n",
      "    NAXIS1  =                  721 / length of data axis 1                          \n",
      "    NAXIS2  =                  361 / length of data axis 2                          \n",
      "    NAXIS3  =                  485 / length of data axis 3\n",
      "\n",
      "\u0414\u0430\u043b\u0435\u0435 \u0438\u0434\u0451\u0442 \u0438\u043d\u0444\u043e\u0440\u043c\u0430\u0446\u0438\u044f \u043e\u0431 \u043e\u0441\u044f\u0445. \u041f\u043e \u043f\u0435\u0440\u0432\u043e\u0439 \u043e\u0441\u0438 \u043c\u044b \u0438\u043c\u0435\u0435\u043c:\n",
      "\n",
      "    CTYPE1  = 'GLON-CAR'           / axis type                                      \n",
      "    CRVAL1  =   1.800000000000E+02 / longitude                                      \n",
      "    CRPIX1  =                    1 / ref pixel                                      \n",
      "    CDELT1  =  -5.000000000000E-01 / longitude increment                            \n",
      "    CROTA1  =   0.000000000000E+00 / longitude rotation                             \n",
      "    CUNIT1  = 'DEG     '           / unit type\n",
      "    \n",
      "Longitude - \u0434\u043e\u043b\u0433\u043e\u0442\u0430/\u043c\u0435\u0440\u0438\u0434\u0438\u0430\u043d. \u041f\u0435\u0440\u0432\u0430\u044f \u044f\u0447\u0435\u0439\u043a\u0430 \u0441\u043e\u043e\u0442\u0432\u0435\u0442\u0441\u0432\u0443\u0435\u0442 1.8E+02 DEG, \u0442\u043e \u0435\u0441\u0442\u044c 180 \u0433\u0440\u0430\u0434\u0443\u0441\u043e\u0432. \u0428\u0430\u0433, CDELT1, -0.5 \u0433\u0440\u0430\u0434\u0443\u0441\u043e\u0432. \u0412\u0441\u0435\u0433\u043e \u044f\u0447\u0435\u0435\u043a 721. \u0418\u0442\u043e\u0433\u043e \u043a\u043e\u043e\u0440\u0434\u0438\u043d\u0430\u0442\u044b \u044f\u0447\u0435\u0435\u043a:\n",
      "    \n",
      "    180.0 179.5 179.0 ... 1.0 0.5 0 -0.5 -1.0 ... -179.0 -179.5 -180.0\n",
      "\n",
      "\u0410\u043d\u0430\u043b\u043e\u0433\u0438\u0447\u043d\u043e \u0438\u043c\u0435\u0435\u043c \u0434\u0430\u043b\u0435\u0435 \u0434\u043b\u044f \u0432\u0442\u043e\u0440\u043e\u0439 \u043e\u0441\u0438:\n",
      "\n",
      "    CTYPE2  = 'GLAT-CAR'           / axis type                                      \n",
      "    CRVAL2  =  -9.000000000000E+01 / latitude                                       \n",
      "    CRPIX2  =                    1 / ref pixel                                      \n",
      "    CDELT2  =   5.000000000000E-01 / longitude increment                            \n",
      "    CROTA2  =   0.000000000000E+00 / latitude rotation                              \n",
      "    CUNIT2  = 'DEG     '           / unit type\n",
      "\n",
      "Latitude - \u0448\u0438\u0440\u043e\u0442\u0430. \u041f\u043e \u0430\u043d\u0430\u043b\u043e\u0433\u0438\u0438 \u043a\u043e\u043e\u0440\u0434\u0438\u043d\u0430\u0442\u044b:\n",
      "\n",
      "    -90.0 -89.5 -89.0 ... -1.0 -0.5 0.0 0.5 1.0 ... 89.0 89.5 90.0\n",
      "\n",
      "\u0422\u0440\u0435\u0442\u044c\u044f \u043e\u0441\u044c - \u0441\u043a\u043e\u0440\u043e\u0441\u0442\u0438 (velocity):\n",
      "\n",
      "    CRVAL3  =  -2.493984165155E+05 / velocity                                       \n",
      "    CRPIX3  =                    1 / ref pixel                                      \n",
      "    CDELT3  =   1.030571969000E+03 / velocity increment                             \n",
      "    CROTA3  =   0.000000000000E+00 / velocity rotation                              \n",
      "    CUNIT3  = 'M/S     '           / unit type"
     ]
    },
    {
     "cell_type": "markdown",
     "metadata": {},
     "source": [
      "Setting up axes\n",
      "---------------\n",
      "\n",
      "\u0414\u043b\u044f \u0443\u0434\u043e\u0431\u0441\u0442\u0432\u0430 \u0441\u043e\u0437\u0434\u0430\u0434\u0438\u043c \u043c\u0430\u0441\u0441\u0438\u0432\u044b, \u0441\u043e\u043e\u0442\u0432\u0435\u0442\u0441\u0442\u0432\u0443\u044e\u0449\u0438\u0435 \u043e\u0441\u044f\u043c \u0432 \u0442\u0440\u0451\u0445\u043c\u0435\u0440\u043d\u043e\u043c \u043c\u0430\u0441\u0441\u0438\u0432\u0435.\n",
      "\u041c\u044b \u043c\u043e\u0436\u0435\u043c \u043e\u0431\u0440\u0430\u0449\u0430\u0442\u044c\u0441\u044f \u043a \u0432\u0435\u043b\u0438\u0447\u0438\u043d\u0430\u043c, \u0443\u043a\u0430\u0437\u0430\u043d\u043d\u044b\u043c \u0432 \u0437\u0430\u0433\u043e\u043b\u043e\u0432\u043a\u0435 \u0441\u043b\u0435\u0434\u0443\u044e\u0449\u0438\u043c \u043e\u0431\u0440\u0430\u0437\u043e\u043c:"
     ]
    },
    {
     "cell_type": "code",
     "collapsed": false,
     "input": [
      "hdu[0].header[9]"
     ],
     "language": "python",
     "metadata": {},
     "outputs": [
      {
       "metadata": {},
       "output_type": "pyout",
       "prompt_number": 6,
       "text": [
        "180.0"
       ]
      }
     ],
     "prompt_number": 6
    },
    {
     "cell_type": "markdown",
     "metadata": {},
     "source": [
      "\u042d\u0442\u0430 \u043a\u043e\u043c\u0430\u043d\u0434\u0430 \u0432\u044b\u0432\u0435\u0434\u0435\u0442 \u043d\u0430\u043c \u0434\u0435\u0441\u044f\u0442\u0443\u044e (\u043d\u0443\u043c\u0435\u0440\u0430\u0446\u0438\u044f \u043d\u0430\u0447\u0438\u043d\u0430\u0435\u0442\u0441\u044f \u0441 0, \u043f\u043e\u044d\u0442\u043e\u043c\u0443 9+1=10) \u0441\u0442\u0440\u043e\u0447\u043a\u0443 \u0437\u0430\u0433\u043e\u043b\u043e\u0432\u043a\u0430.\n",
      "\u041f\u0443\u0442\u0451\u043c \u043f\u043e\u0434\u0441\u0447\u0451\u0442\u0430 \u0441\u0442\u0440\u043e\u0447\u0435\u043a, \u044f \u043f\u043e\u043b\u0443\u0447\u0430\u044e, \u0447\u0442\u043e \u043f\u0435\u0440\u0432\u044b\u0439 \u044d\u043b\u0435\u043c\u0435\u043d\u0442 \u043f\u043e \u043a\u043e\u043e\u0440\u043b\u0438\u043d\u0430\u0442\u0435 \u043c\u0435\u0440\u0438\u043b\u0438\u0430\u043d \u0438\u043c\u0435\u0435\u0442 \u21169, \u043a\u043e\u043b-\u0432\u043e \u044d\u043b\u0435\u043c\u0435\u043d\u0442\u043e\u0432 \u043f\u043e \u044d\u0442\u043e\u0439 \u043e\u0441\u0438 \u0432 \u0441\u0442\u0440\u043e\u0447\u043a\u0435 \u21163 \u0438 \u0448\u0430\u0433 \u0432 \u0441\u0442\u0440\u043e\u0447\u043a\u0435 \u211611. \u041f\u043e\u044d\u0442\u043e\u043c\u0443 \u043c\u0430\u0441\u0441\u0438\u0432 \u043a\u043e\u043e\u0440\u0434\u0438\u043d\u0430\u0442 \u0432\u0434\u043e\u043b\u044c \u044d\u0442\u043e\u0439 \u043e\u0441\u0438 \u044f \u0437\u0430\u0434\u0430\u044e \u0442\u0430\u043a:"
     ]
    },
    {
     "cell_type": "code",
     "collapsed": false,
     "input": [
      "ra = hdu[0].header[9]+np.arange(hdu[0].header[3])*hdu[0].header[11]\n",
      "print ra"
     ],
     "language": "python",
     "metadata": {},
     "outputs": [
      {
       "output_type": "stream",
       "stream": "stdout",
       "text": [
        "[ 180.   179.5  179.   178.5  178.   177.5  177.   176.5  176.   175.5\n",
        "  175.   174.5  174.   173.5  173.   172.5  172.   171.5  171.   170.5\n",
        "  170.   169.5  169.   168.5  168.   167.5  167.   166.5  166.   165.5\n",
        "  165.   164.5  164.   163.5  163.   162.5  162.   161.5  161.   160.5\n",
        "  160.   159.5  159.   158.5  158.   157.5  157.   156.5  156.   155.5\n",
        "  155.   154.5  154.   153.5  153.   152.5  152.   151.5  151.   150.5\n",
        "  150.   149.5  149.   148.5  148.   147.5  147.   146.5  146.   145.5\n",
        "  145.   144.5  144.   143.5  143.   142.5  142.   141.5  141.   140.5\n",
        "  140.   139.5  139.   138.5  138.   137.5  137.   136.5  136.   135.5\n",
        "  135.   134.5  134.   133.5  133.   132.5  132.   131.5  131.   130.5\n",
        "  130.   129.5  129.   128.5  128.   127.5  127.   126.5  126.   125.5\n",
        "  125.   124.5  124.   123.5  123.   122.5  122.   121.5  121.   120.5\n",
        "  120.   119.5  119.   118.5  118.   117.5  117.   116.5  116.   115.5\n",
        "  115.   114.5  114.   113.5  113.   112.5  112.   111.5  111.   110.5\n",
        "  110.   109.5  109.   108.5  108.   107.5  107.   106.5  106.   105.5\n",
        "  105.   104.5  104.   103.5  103.   102.5  102.   101.5  101.   100.5\n",
        "  100.    99.5   99.    98.5   98.    97.5   97.    96.5   96.    95.5\n",
        "   95.    94.5   94.    93.5   93.    92.5   92.    91.5   91.    90.5\n",
        "   90.    89.5   89.    88.5   88.    87.5   87.    86.5   86.    85.5\n",
        "   85.    84.5   84.    83.5   83.    82.5   82.    81.5   81.    80.5\n",
        "   80.    79.5   79.    78.5   78.    77.5   77.    76.5   76.    75.5\n",
        "   75.    74.5   74.    73.5   73.    72.5   72.    71.5   71.    70.5\n",
        "   70.    69.5   69.    68.5   68.    67.5   67.    66.5   66.    65.5\n",
        "   65.    64.5   64.    63.5   63.    62.5   62.    61.5   61.    60.5\n",
        "   60.    59.5   59.    58.5   58.    57.5   57.    56.5   56.    55.5\n",
        "   55.    54.5   54.    53.5   53.    52.5   52.    51.5   51.    50.5\n",
        "   50.    49.5   49.    48.5   48.    47.5   47.    46.5   46.    45.5\n",
        "   45.    44.5   44.    43.5   43.    42.5   42.    41.5   41.    40.5\n",
        "   40.    39.5   39.    38.5   38.    37.5   37.    36.5   36.    35.5\n",
        "   35.    34.5   34.    33.5   33.    32.5   32.    31.5   31.    30.5\n",
        "   30.    29.5   29.    28.5   28.    27.5   27.    26.5   26.    25.5\n",
        "   25.    24.5   24.    23.5   23.    22.5   22.    21.5   21.    20.5\n",
        "   20.    19.5   19.    18.5   18.    17.5   17.    16.5   16.    15.5\n",
        "   15.    14.5   14.    13.5   13.    12.5   12.    11.5   11.    10.5\n",
        "   10.     9.5    9.     8.5    8.     7.5    7.     6.5    6.     5.5\n",
        "    5.     4.5    4.     3.5    3.     2.5    2.     1.5    1.     0.5\n",
        "    0.    -0.5   -1.    -1.5   -2.    -2.5   -3.    -3.5   -4.    -4.5\n",
        "   -5.    -5.5   -6.    -6.5   -7.    -7.5   -8.    -8.5   -9.    -9.5\n",
        "  -10.   -10.5  -11.   -11.5  -12.   -12.5  -13.   -13.5  -14.   -14.5\n",
        "  -15.   -15.5  -16.   -16.5  -17.   -17.5  -18.   -18.5  -19.   -19.5\n",
        "  -20.   -20.5  -21.   -21.5  -22.   -22.5  -23.   -23.5  -24.   -24.5\n",
        "  -25.   -25.5  -26.   -26.5  -27.   -27.5  -28.   -28.5  -29.   -29.5\n",
        "  -30.   -30.5  -31.   -31.5  -32.   -32.5  -33.   -33.5  -34.   -34.5\n",
        "  -35.   -35.5  -36.   -36.5  -37.   -37.5  -38.   -38.5  -39.   -39.5\n",
        "  -40.   -40.5  -41.   -41.5  -42.   -42.5  -43.   -43.5  -44.   -44.5\n",
        "  -45.   -45.5  -46.   -46.5  -47.   -47.5  -48.   -48.5  -49.   -49.5\n",
        "  -50.   -50.5  -51.   -51.5  -52.   -52.5  -53.   -53.5  -54.   -54.5\n",
        "  -55.   -55.5  -56.   -56.5  -57.   -57.5  -58.   -58.5  -59.   -59.5\n",
        "  -60.   -60.5  -61.   -61.5  -62.   -62.5  -63.   -63.5  -64.   -64.5\n",
        "  -65.   -65.5  -66.   -66.5  -67.   -67.5  -68.   -68.5  -69.   -69.5\n",
        "  -70.   -70.5  -71.   -71.5  -72.   -72.5  -73.   -73.5  -74.   -74.5\n",
        "  -75.   -75.5  -76.   -76.5  -77.   -77.5  -78.   -78.5  -79.   -79.5\n",
        "  -80.   -80.5  -81.   -81.5  -82.   -82.5  -83.   -83.5  -84.   -84.5\n",
        "  -85.   -85.5  -86.   -86.5  -87.   -87.5  -88.   -88.5  -89.   -89.5\n",
        "  -90.   -90.5  -91.   -91.5  -92.   -92.5  -93.   -93.5  -94.   -94.5\n",
        "  -95.   -95.5  -96.   -96.5  -97.   -97.5  -98.   -98.5  -99.   -99.5\n",
        " -100.  -100.5 -101.  -101.5 -102.  -102.5 -103.  -103.5 -104.  -104.5\n",
        " -105.  -105.5 -106.  -106.5 -107.  -107.5 -108.  -108.5 -109.  -109.5\n",
        " -110.  -110.5 -111.  -111.5 -112.  -112.5 -113.  -113.5 -114.  -114.5\n",
        " -115.  -115.5 -116.  -116.5 -117.  -117.5 -118.  -118.5 -119.  -119.5\n",
        " -120.  -120.5 -121.  -121.5 -122.  -122.5 -123.  -123.5 -124.  -124.5\n",
        " -125.  -125.5 -126.  -126.5 -127.  -127.5 -128.  -128.5 -129.  -129.5\n",
        " -130.  -130.5 -131.  -131.5 -132.  -132.5 -133.  -133.5 -134.  -134.5\n",
        " -135.  -135.5 -136.  -136.5 -137.  -137.5 -138.  -138.5 -139.  -139.5\n",
        " -140.  -140.5 -141.  -141.5 -142.  -142.5 -143.  -143.5 -144.  -144.5\n",
        " -145.  -145.5 -146.  -146.5 -147.  -147.5 -148.  -148.5 -149.  -149.5\n",
        " -150.  -150.5 -151.  -151.5 -152.  -152.5 -153.  -153.5 -154.  -154.5\n",
        " -155.  -155.5 -156.  -156.5 -157.  -157.5 -158.  -158.5 -159.  -159.5\n",
        " -160.  -160.5 -161.  -161.5 -162.  -162.5 -163.  -163.5 -164.  -164.5\n",
        " -165.  -165.5 -166.  -166.5 -167.  -167.5 -168.  -168.5 -169.  -169.5\n",
        " -170.  -170.5 -171.  -171.5 -172.  -172.5 -173.  -173.5 -174.  -174.5\n",
        " -175.  -175.5 -176.  -176.5 -177.  -177.5 -178.  -178.5 -179.  -179.5\n",
        " -180. ]\n"
       ]
      }
     ],
     "prompt_number": 9
    },
    {
     "cell_type": "markdown",
     "metadata": {},
     "source": [
      "RA - \u0447\u0430\u0441\u0442\u043e\u0435 \u0441\u043e\u043a\u0440\u0430\u0449\u0435\u043d\u0438\u0435 Right Ascension, \u0442\u043e \u0435\u0441\u0442\u044c \u041f\u0440\u044f\u043c\u043e\u0435 \u0412\u043e\u0441\u0445\u043e\u0436\u0434\u0435\u043d\u0438\u0435. \u0424\u0443\u043d\u043a\u0446\u0438\u044f arange(N) \u0432\u043e\u0437\u0432\u0440\u0430\u0436\u0430\u0435\u0442: 0,1,2,3,...N-1 (\u0432\u0441\u0435\u0433\u043e N \u043f\u043e\u0441\u043b\u0435\u0434\u043e\u0432\u0430\u0442\u0435\u043b\u044c\u043d\u044b\u0445 \u0446\u0435\u043b\u044b\u0445 \u0447\u0438\u0441\u0435\u043b, \u043d\u0430\u0447\u0438\u043d\u0430\u044f \u0441 0). \u041f\u043e\u044d\u0442\u043e\u043c\u0443 \u044d\u0442\u0430 \u0441\u0442\u0440\u043e\u0447\u043a\u0430 \u043d\u0430\u043c \u0437\u0430\u043f\u0438\u0448\u0435\u0442 \u0432 \u043f\u0435\u0440\u0435\u043c\u0435\u043d\u043d\u0443\u044e ra \u043d\u0435\u043e\u0431\u0445\u043e\u0434\u0438\u043c\u044b\u0435 \u0437\u043d\u0430\u0447\u0435\u043d\u0438\u044f.\n",
      "\u0410\u043d\u0430\u043b\u043e\u0433\u0438\u0447\u043d\u043e \u0434\u0435\u043b\u0430\u044e \u0434\u043b\u044f dec (Declination - \u0421\u043a\u043b\u043e\u043d\u0435\u043d\u0438\u0435) \u0438 vel (Velocity - \u0421\u043a\u043e\u0440\u043e\u0441\u0442\u044c)."
     ]
    },
    {
     "cell_type": "code",
     "collapsed": false,
     "input": [
      "dec = hdu[0].header[15]+np.arange(hdu[0].header[4])*hdu[0].header[17]\n",
      "vel = hdu[0].header[21]+np.arange(hdu[0].header[5])*hdu[0].header[23]"
     ],
     "language": "python",
     "metadata": {},
     "outputs": [],
     "prompt_number": 10
    },
    {
     "cell_type": "markdown",
     "metadata": {},
     "source": [
      "\u0423\u0434\u043e\u0431\u043d\u043e \u0441\u0440\u0430\u0437\u0443 \u0436\u0435 \u0441\u043a\u043e\u043d\u0432\u0435\u0440\u0442\u0438\u0440\u043e\u0432\u0430\u0442\u044c \u0438\u0437 \u0433\u0440\u0430\u0434\u0443\u0441\u043e\u0432 \u0432 \u0440\u0430\u0434\u0438\u0430\u043d\u044b, \u0442\u0430\u043a \u043a\u0430\u043a \u0432\u0441\u0435 \u0442\u0440\u0438\u0433\u043e\u043d\u043e\u043c\u0435\u0442\u0440\u0438\u0447\u0435\u0441\u043a\u0438\u0435 \u0444\u0443\u043d\u043a\u0446\u0438\u0438 (sin, cos \u0438 \u0442\u043f) \u0440\u0430\u0431\u043e\u0442\u0430\u044e\u0442 \u0441 \u0440\u0430\u0434\u0438\u0430\u043d\u0430\u043c\u0438."
     ]
    },
    {
     "cell_type": "code",
     "collapsed": false,
     "input": [
      "ra = ra/180*np.pi\n",
      "dec = dec/180*np.pi"
     ],
     "language": "python",
     "metadata": {},
     "outputs": [],
     "prompt_number": 12
    },
    {
     "cell_type": "markdown",
     "metadata": {},
     "source": [
      "Exploring the data\n",
      "------------------\n",
      "\n",
      "\u0421\u0447\u0438\u0442\u044b\u0432\u0430\u0435\u043c \u0434\u0430\u043d\u043d\u044b\u0435 \u0432 \u043f\u0435\u0440\u0435\u043c\u0435\u043d\u043d\u0443\u044e data:"
     ]
    },
    {
     "cell_type": "code",
     "collapsed": false,
     "input": [
      "data=hdu[0].data"
     ],
     "language": "python",
     "metadata": {},
     "outputs": [],
     "prompt_number": 13
    },
    {
     "cell_type": "markdown",
     "metadata": {},
     "source": [
      "\u0414\u043b\u044f \u0431\u0430\u0437\u043e\u0432\u043e\u0433\u043e \u0438\u0441\u0441\u043b\u0435\u0434\u043e\u0432\u0430\u043d\u0438\u044f \u043d\u0430\u043c \u043f\u043e\u043d\u0430\u0434\u043e\u0431\u044f\u0442\u0441\u044f \u0442\u043e\u043b\u044c\u043a\u043e \u0434\u0430\u043d\u043d\u044b\u0435 \u0438\u0437 \u043f\u043b\u043e\u0441\u043a\u043e\u0441\u0442\u0438 \u0413\u0430\u043b\u0430\u043a\u0442\u0438\u043a\u0438, \u0442\u043e \u0435\u0441\u0442\u044c \u043f\u0440\u0438 dec=0. \u0414\u043b\u044f \u044d\u0442\u043e\u0433\u043e \u0441\u0434\u0435\u043b\u0430\u0435\u043c \u0441\u0440\u0435\u0437 \u0432 \u043d\u0430\u0448\u0435\u043c \u0442\u0440\u0451\u0445\u043c\u0435\u0440\u043d\u043e\u043c \u043c\u0430\u0441\u0441\u0438\u0432\u0435. \u041a\u043e\u043e\u0440\u0434\u0438\u043d\u0430\u0442\u0430 \u0441\u043e\u043e\u0442\u0432\u0435\u0442\u0441\u0432\u0443\u044e\u0449\u0430\u044f \u043d\u0443\u043b\u0435\u0432\u043e\u043c\u0443 \u0441\u043a\u043b\u043e\u043d\u0435\u043d\u0438\u044e - 180. \u041f\u0440\u043e\u0432\u0435\u0440\u0438\u043c:"
     ]
    },
    {
     "cell_type": "code",
     "collapsed": false,
     "input": [
      "dec[180]"
     ],
     "language": "python",
     "metadata": {},
     "outputs": [
      {
       "metadata": {},
       "output_type": "pyout",
       "prompt_number": 14,
       "text": [
        "0.0"
       ]
      }
     ],
     "prompt_number": 14
    },
    {
     "cell_type": "markdown",
     "metadata": {},
     "source": [
      "\u0414\u0435\u043b\u0430\u044e \u0441\u0440\u0435\u0437:"
     ]
    },
    {
     "cell_type": "code",
     "collapsed": false,
     "input": [
      "temp = data[:,180,:]\n",
      "data0 = np.reshape(temp,[np.size(vel),np.size(ra)])"
     ],
     "language": "python",
     "metadata": {},
     "outputs": [],
     "prompt_number": 17
    },
    {
     "cell_type": "markdown",
     "metadata": {},
     "source": [
      "\u041a\u043e\u043c\u0430\u043d\u0434\u0430 reshape \u043f\u0440\u0438\u0432\u043e\u0434\u0438\u0442 \u043c\u0430\u0441\u0441\u0438\u0432 \u043a \u043d\u0443\u0436\u043d\u043e\u0439 \u0444\u043e\u0440\u043c\u0435. \u0412 \u043f\u0440\u0438\u0447\u0438\u043d\u044b \u0438\u0441\u043f\u043e\u043b\u044c\u0437\u043e\u0432\u0430\u043d\u0438\u044f \u044d\u0442\u043e\u0439 \u043a\u043e\u043c\u0430\u043d\u0434\u044b \u043f\u043e\u043a\u0430 \u0432\u0434\u0430\u0432\u0430\u0442\u044c\u0441\u044f \u043d\u0435 \u0431\u0443\u0434\u0435\u043c.\n",
      "\u0422\u0435\u043f\u0435\u0440\u044c \u043f\u043e\u043c\u043e\u0442\u0440\u0438\u043c \u043d\u0430 \u043f\u0435\u0440\u0435\u043c\u0435\u043d\u043d\u0443\u044e data0."
     ]
    },
    {
     "cell_type": "code",
     "collapsed": false,
     "input": [
      "plt.clf() # \u043e\u0447\u0438\u0441\u0442\u0438\u0442\u044c \u0444\u0438\u0433\u0443\u0440\u0443\n",
      "plt.contourf(ra,vel,data0,15) # 15 \u0446\u0432\u0435\u0442\u043e\u0432\u044b\u0445 \u043a\u043e\u043d\u0442\u0443\u0440\u043e\u0432\n",
      "plt.colorbar() # \u0434\u043e\u0431\u0430\u0432\u0438\u0442\u044c '\u0433\u0440\u0430\u0434\u0443\u0441\u043d\u0438\u043a' \n",
      "plt.xlabel(\"RA [rad]\") # \u043f\u043e\u0434\u043f\u0438\u0441\u0430\u0442\u044c \u043e\u0441\u044c x\n",
      "plt.ylabel(\"Vel [m/s]\") # \u043f\u043e\u0434\u043f\u0438\u0441\u0430\u0442\u044c \u043e\u0441\u044c y"
     ],
     "language": "python",
     "metadata": {},
     "outputs": [
      {
       "metadata": {},
       "output_type": "pyout",
       "prompt_number": 20,
       "text": [
        "<matplotlib.text.Text at 0x4fbd050>"
       ]
      },
      {
       "metadata": {},
       "output_type": "display_data",
       "png": "[encoded data removed]",
       "text": [
        "<matplotlib.figure.Figure at 0x4fb6c90>"
       ]
      }
     ],
     "prompt_number": 20
    },
    {
     "cell_type": "markdown",
     "metadata": {},
     "source": [
      "\u0423\u0440\u0430! \u041c\u044b \u0432\u0438\u0434\u0438\u043c \u0432\u043e\u043b\u043e\u043a\u043d\u0438\u0441\u0442\u0443\u044e \u0441\u0442\u0440\u0443\u043a\u0442\u0443\u0440\u0443, \u043a\u043e\u0442\u043e\u0440\u0430\u044f \u043d\u0430\u043c \u043f\u0440\u0435\u0434\u0441\u0442\u0430\u0432\u043b\u0435\u0442 \u0440\u0443\u043a\u0430\u0432\u0430 \u0413\u0430\u043b\u0430\u043a\u0442\u0438\u043a\u0438. \u041f\u0440\u043e\u0441\u0442\u043e \u0442\u0430\u043a, \u0441\u043c\u043e\u0442\u0440\u044f \u043d\u0430 \u043d\u043e\u0447\u043d\u043e\u0435 \u043d\u0435\u0431\u043e, \u043d\u0438\u043a\u0430\u043a\u0438\u0445 \u0440\u0443\u043a\u0430\u0432\u043e\u0432 \u043d\u0435 \u0432\u0438\u0434\u043d\u043e. \u0410 \u043d\u0430 \u044d\u0442\u043e\u0439 \u043a\u0430\u0440\u0442\u0438\u043d\u043a\u0435 \u0438\u0445 \u043c\u043e\u0436\u043d\u043e \u0443\u0432\u0438\u0434\u0435\u0442\u044c. \u0417\u0434\u0435\u0441\u044c \u0434\u0435\u0436\u0438\u0442 \u044d\u0442\u0430 \u0436\u0435 \u043a\u0430\u0440\u0442\u0438\u043d\u043a\u0430 \u0441 \u043f\u043e\u0434\u043f\u0438\u0441\u0430\u043d\u043d\u044b\u043c\u0438 \u0440\u0443\u043a\u0430\u0432\u0430\u043c\u0438 (\u0443 \u043a\u0430\u0436\u0434\u043e\u0433\u043e \u0440\u0443\u043a\u0430\u0432\u0430 \u0413\u0430\u043b\u0430\u043a\u0442\u0438\u043a\u0438 \u0435\u0441\u0442\u044c \u0441\u0432\u043e\u0451 \u043d\u0430\u0437\u0432\u0430\u043d\u0438\u0435) http://www.cfa.harvard.edu/mmw/Fig3_Dame.pdf . \n",
      "\n",
      "\u0417\u0434\u0435\u0441\u044c \u043a\u0430\u0440\u0442\u0430 \u0413\u0430\u043b\u0430\u043a\u0442\u0438\u043a\u0438 \u0441 \u043f\u043e\u0434\u043f\u0438\u0441\u0430\u043d\u043d\u044b\u043c\u0438 \u0440\u0443\u043a\u0430\u0432\u0430\u043c\u0438:\n",
      "\n",
      "http://ksj.mit.edu/sites/default/files/images/tracker/2011/milky-way-newarmwholeset.jpg"
     ]
    },
    {
     "cell_type": "markdown",
     "metadata": {},
     "source": [
      "Estimating the rotation curve\n",
      "-----------------------------\n",
      "\n",
      "\u0414\u0435\u0439\u0441\u0442\u0432\u0443\u0435\u043c \u0441\u043e\u0433\u043b\u0430\u0441\u043d\u043e \u0430\u043b\u0433\u043e\u0440\u0438\u0442\u043c\u0443, \u0443\u043a\u0430\u0437\u0430\u043d\u043d\u043e\u043c\u0443 \u0432 \u043f\u0435\u0440\u0432\u043e\u043c \u043f\u0430\u0440\u0430\u0433\u0440\u0430\u0444\u0435.\n",
      "\u0420\u0430\u0434\u0438\u0443\u0441 \u043e\u0440\u0431\u0438\u0442\u044b \u0421\u043e\u043b\u043d\u0446\u0430 \u043f\u0440\u0438\u043c\u0435\u043c \u0437\u0430 8.5 \u043a\u043f\u0441 (\u043a\u0438\u043b\u043e\u043f\u0430\u0440\u0441\u0435\u043a). \u0421\u043a\u043e\u0440\u043e\u0441\u0442\u044c \u0421\u043e\u043b\u043d\u0446\u0430 \u0437\u0430 220e3 \u043c/\u0441. \u042d\u0442\u0438 \u0432\u0435\u043b\u0438\u0447\u0438\u043d\u044b \u043c\u044b \u0438\u0437\u043c\u0435\u0440\u0438\u043c \u0432 \u0434\u0440\u0443\u0433\u043e\u0439 \u0440\u0430\u0437."
     ]
    },
    {
     "cell_type": "code",
     "collapsed": false,
     "input": [
      "# \u0441\u043e\u0437\u0434\u0430\u0451\u043c \u043f\u0443\u0441\u0442\u043e\u0439 \u043c\u0430\u0441\u0441\u0438\u0432 \u043f\u043e\u0434 \u0440\u0430\u0434\u0438\u0443\u0441\u044b\n",
      "r = []\n",
      "# \u0441\u043e\u0437\u0434\u0430\u0451\u043c \u043f\u0443\u0442\u043e\u0439 \u043c\u0430\u0441\u0441\u0438\u0432 \u043f\u043e\u0434 \u0441\u043a\u043e\u0440\u043e\u0441\u0442\u0438\n",
      "Vc= []\n",
      "# \u0440\u0430\u0434\u0438\u0443\u0441 \u043e\u0442 \u0446\u0435\u043d\u0442\u0440\u0430 \u041c\u043b\u0435\u0447\u043d\u043e\u0433\u043e \u043f\u0443\u0442\u0438 \u0434\u043e \u0421\u043e\u043b\u043d\u0446\u0430 \u043f\u0440\u0438\u043c\u0435\u043c \u0437\u0430 \u0435\u0434\u0438\u043d\u0438\u0446\u0443\n",
      "rsun=8.5\n",
      "# \u0434\u043b\u044f \u043a\u0430\u0436\u0434\u043e\u0433\u043e \u0443\u0433\u043b\u0430 (\u0434\u0435\u043b\u0430\u0435\u043c \u0446\u0438\u043a\u043b \u043f\u043e i)\n",
      "for i in range(180,360): # \u0438\u043d\u0442\u0435\u0440\u0432\u0430\u043b \u0438\u043d\u0434\u0435\u043a\u0441\u043e\u0432 \u043e\u0442 180 \u0438 360 \u0441\u043e\u043e\u0442\u0432\u0435\u0442\u0441\u0442\u0432\u0443\u044e\u0442 \u0443\u0433\u043b\u0430\u043c \u043e\u0442 pi/2 \u0434\u043e 0\n",
      "    r = np.append(r, np.abs(rsun*np.sin(-ra[i]))) # append \u0434\u043e\u0431\u0430\u0432\u043b\u044f\u0435\u0442 \u043a \u043a\u043e\u043d\u0446\u0443 \u043c\u0430\u0441\u0441\u0438\u0432\u0430 r \u0435\u0449\u0451 \u043e\u0434\u0438\u043d \u044d\u043b\u0435\u043c\u0435\u043d\u0442\n",
      "    Vc= np.append(Vc,vel[np.where(data0[:,i]>1.0)[0][-1]]-(-220e3)*np.sin(np.abs(ra[i]))) # where \u043d\u0430\u0445\u043e\u0434\u0438\u0442 \u044d\u043b\u0435\u043c\u0435\u043d\u0442\u044b \u0432 \u043c\u0430\u0441\u0441\u0438\u0432\u0435, \u043a\u043e\u0442\u043e\u0440\u044b\u0435 \u0431\u043e\u043b\u044c\u0448\u0435 \u043d\u0435\u043a\u043e\u0439, \u0443\u0441\u043b\u043e\u0432\u043d\u043e\u0439, 1\n",
      "    print i, r[-1], Vc[-1] # \u0432\u044b\u0432\u043e\u0434\u0438\u043c \u0432\u044b\u0447\u0438\u0441\u043b\u0435\u043d\u043d\u044b\u0435 \u0434\u0430\u043d\u043d\u044b\u0435 \u0434\u043b\u044f \u0441\u043f\u0440\u0430\u0432\u043a\u0438. \u0418\u043d\u0434\u0435\u043a\u0441 '-1' \u0441\u043e\u043e\u0442\u0432\u0435\u0442\u0441\u0442\u0432\u0443\u0435\u0442 \u043f\u043e\u0441\u043b\u0435\u0434\u043d\u0435\u043c\u0443 \u044d\u043b\u0435\u043c\u0435\u043d\u0442\u0443 \u043c\u0430\u0441\u0441\u0438\u0432\u0430\n"
     ],
     "language": "python",
     "metadata": {},
     "outputs": [
      {
       "output_type": "stream",
       "stream": "stdout",
       "text": [
        "180 8.5 248856.015115\n",
        "181 8.49967634605 247817.06622\n",
        "182 8.49870540883 251914.223956\n",
        "183 8.49708726229 253933.486454\n",
        "184 8.49482202966 247691.42509\n",
        "185 8.49190988345 246585.479925\n",
        "186 8.48835104541 244432.224885\n",
        "187 8.48414578659 247415.098798\n",
        "188 8.47929442721 248320.106172\n",
        "189 8.47379733673 249208.400505\n",
        "190 8.46765493378 248018.848695\n",
        "191 8.46086768612 273607.47798\n",
        "192 8.45343611063 268262.271476\n",
        "193 8.44536077325 259808.686991\n",
        "194 8.43664228895 257521.888166\n",
        "195 8.42728132168 255218.460369\n",
        "196 8.4172785843 258051.281897\n",
        "197 8.40663483858 255714.652775\n",
        "198 8.39535089506 254392.025797\n",
        "199 8.38342761307 254083.423205\n",
        "200 8.3708659006 250666.580622\n",
        "201 8.35766671429 251355.526593\n",
        "202 8.34383105931 255119.715163\n",
        "203 8.32935998928 254745.169821\n",
        "204 8.31425460624 250231.91909\n",
        "205 8.29851606052 247763.424557\n",
        "206 8.28214555067 245278.573305\n",
        "207 8.26514432338 245869.113509\n",
        "208 8.24751367335 245412.790802\n",
        "209 8.22925494321 256276.503564\n",
        "210 8.21036952346 245481.984774\n",
        "211 8.19085885227 242915.858758\n",
        "212 8.17072441548 242394.732159\n",
        "213 8.14996774638 240826.928755\n",
        "214 8.12859042569 243365.349302\n",
        "215 8.10659408136 244857.176093\n",
        "216 8.08398038851 245302.452482\n",
        "217 8.06075106925 241609.507136\n",
        "218 8.03690789259 240992.389622\n",
        "219 8.01245267428 243451.146938\n",
        "220 7.98738727668 240741.251532\n",
        "221 7.96171360861 244199.04447\n",
        "222 7.93543362523 246610.572572\n",
        "223 7.90854932785 252098.175513\n",
        "224 7.88106276382 248295.042654\n",
        "225 7.85297602635 249629.23574\n",
        "226 7.82429125435 245795.09044\n",
        "227 7.79501063227 244006.667076\n",
        "228 7.76513638996 242202.879424\n",
        "229 7.73467080245 239353.214397\n",
        "230 7.70361618981 240610.591891\n",
        "231 7.67197491697 241852.785237\n",
        "232 7.63974939354 243079.856804\n",
        "233 7.60694207362 249444.729954\n",
        "234 7.5735554556 251672.32163\n",
        "235 7.53959208201 250793.269608\n",
        "236 7.5050545393 245777.068861\n",
        "237 7.46994545763 243837.791249\n",
        "238 7.43426751068 244975.505972\n",
        "239 7.39802341549 247129.139415\n",
        "240 7.36121593217 250298.763017\n",
        "241 7.32384786375 250362.161451\n",
        "242 7.28592205597 248349.980339\n",
        "243 7.24744139701 246323.438373\n",
        "244 7.20840881733 246343.755339\n",
        "245 7.16882728941 244288.720294\n",
        "246 7.12869982754 245311.271101\n",
        "247 7.08802948757 248380.914884\n",
        "248 7.04681936672 249375.44393\n",
        "249 7.00507260329 246233.795526\n",
        "250 6.96279237646 247200.627711\n",
        "251 6.91998190603 253306.595789\n",
        "252 6.87664445219 254246.064451\n",
        "253 6.83278331525 255171.978962\n",
        "254 6.7884018354 255053.853806\n",
        "255 6.74350339248 254922.348429\n",
        "256 6.69809140566 254777.551327\n",
        "257 6.65216933325 256680.695948\n",
        "258 6.60574067238 259601.300837\n",
        "259 6.5588089588 256325.453724\n",
        "260 6.51137776651 256128.394834\n",
        "261 6.4634507076 259010.217656\n",
        "262 6.41503143189 275276.736346\n",
        "263 6.36612362671 256491.163797\n",
        "264 6.31673101656 257273.910767\n",
        "265 6.26685736289 257013.635229\n",
        "266 6.21650646376 251588.147611\n",
        "267 6.1656821536 247180.97897\n",
        "268 6.11438830288 246883.945391\n",
        "269 6.06262881781 246574.860099\n",
        "270 6.01040764009 245223.253147\n",
        "271 5.95772874655 244890.3714\n",
        "272 5.9045961489 247637.462631\n",
        "273 5.8510138934 247281.199752\n",
        "274 5.79698606053 245882.832313\n",
        "275 5.74251676473 245503.610744\n",
        "276 5.68761015405 245113.070436\n",
        "277 5.63227040983 242650.175676\n",
        "278 5.57650174642 245329.039322\n",
        "279 5.52030841081 251088.62736\n",
        "280 5.46369468234 248592.75889\n",
        "281 5.40666487236 247116.69322\n",
        "282 5.34922332392 246660.542758\n",
        "283 5.29137441142 246193.848757\n",
        "284 5.23312254027 247777.869175\n",
        "285 5.17447214657 244198.715047\n",
        "286 5.11542769679 243701.077728\n",
        "287 5.05599368739 243193.357689\n",
        "288 4.99617464449 241645.100108\n",
        "289 4.93597512354 245239.854705\n",
        "290 4.87539970898 245733.164384\n",
        "291 4.81445301386 245186.292479\n",
        "292 4.7531396795 245660.503057\n",
        "293 4.69146437515 246125.345\n",
        "294 4.62943179763 248642.083811\n",
        "295 4.56704667095 247027.409944\n",
        "296 4.50431374598 246434.306208\n",
        "297 4.44123780009 255107.472004\n",
        "298 4.37782363674 256557.880154\n",
        "299 4.31407608517 247693.939742\n",
        "300 4.25 240882.640046\n",
        "301 4.18560026088 235093.535392\n",
        "302 4.12088177209 241663.044376\n",
        "303 4.05584946221 233796.423365\n",
        "304 3.99050828368 231074.667951\n",
        "305 3.9248632125 230406.191019\n",
        "306 3.85891924779 230760.549988\n",
        "307 3.79268141143 232137.874837\n",
        "308 3.72615474771 236599.44006\n",
        "309 3.65934432287 242084.232847\n",
        "310 3.5922552248 239317.237163\n",
        "311 3.52489256258 237573.732965\n",
        "312 3.45726146614 233762.137119\n",
        "313 3.38936708586 222729.723085\n",
        "314 3.32121459216 221996.348158\n",
        "315 3.2528091751 222286.998949\n",
        "316 3.18415604404 220510.09438\n",
        "317 3.11526042716 217696.341739\n",
        "318 3.04612757114 217968.164697\n",
        "319 2.97676274071 217203.411644\n",
        "320 2.90717121827 218493.935205\n",
        "321 2.83735830349 216687.012705\n",
        "322 2.76732931289 213843.925685\n",
        "323 2.69708957944 212025.956114\n",
        "324 2.62664445219 212263.814405\n",
        "325 2.55599929579 214557.639409\n",
        "326 2.48515949014 215815.854465\n",
        "327 2.41413042998 218099.743136\n",
        "328 2.34291752444 218317.729519\n",
        "329 2.27152619667 219561.669884\n",
        "330 2.19996188337 221831.704945\n",
        "331 2.12823003446 221005.687883\n",
        "332 2.0563361126 222236.61993\n",
        "333 1.98428559278 222432.926885\n",
        "334 1.91208396192 222625.32273\n",
        "335 1.83973671847 219722.233872\n",
        "336 1.76724937195 220937.806692\n",
        "337 1.69462744255 226272.184067\n",
        "338 1.6218764607 227480.933385\n",
        "339 1.54900196668 229717.057887\n",
        "340 1.47600951017 230919.557272\n",
        "341 1.40290464982 230058.003444\n",
        "342 1.32969295284 231254.82837\n",
        "343 1.2563799946 231418.460448\n",
        "344 1.18297135816 230549.04418\n",
        "345 1.10947263387 230707.868195\n",
        "346 1.03588941894 230864.505394\n",
        "347 0.962227317027 232049.67278\n",
        "348 0.888491937775 236324.659484\n",
        "349 0.814688896422 246781.326748\n",
        "350 0.740823813355 258266.960195\n",
        "351 0.666902313687 261506.557696\n",
        "352 0.592930026825 264744.840704\n",
        "353 0.518912586046 262829.095178\n",
        "354 0.444855628065 260912.326854\n",
        "355 0.370764792605 258994.681701\n",
        "356 0.296645721971 257076.305755\n",
        "357 0.222504060617 253096.20117\n",
        "358 0.148345454717 227473.646672\n",
        "359 0.0741755517362 210095.37553\n"
       ]
      }
     ],
     "prompt_number": 22
    },
    {
     "cell_type": "markdown",
     "metadata": {},
     "source": [
      "\u0421\u0442\u0440\u043e\u0438\u043c \u0442\u043e, \u0447\u0442\u043e \u043f\u043e\u043b\u0443\u0447\u0438\u043b\u043e\u0441\u044c:"
     ]
    },
    {
     "cell_type": "code",
     "collapsed": false,
     "input": [
      "plt.clf() # \u0447\u0438\u0441\u0442\u0438\u043c \u0444\u0438\u0433\u0443\u0440\u0443\n",
      "plt.plot(r,Vc,'.') # \u0441\u0442\u0440\u043e\u0438\u043c \u0442\u043e\u0447\u043a\u0438\n",
      "plt.xlabel('Radius [kpc]')\n",
      "plt.ylabel('Velocity [m/s]') # \u043f\u043e\u0434\u043f\u0438\u0441\u044b\u0432\u0430\u0435\u043c \u043e\u0441\u0438\n",
      "plt.ylim([0e3,325e3]) # \u0443\u0441\u0442\u0430\u043d\u0430\u0432\u043b\u0438\u0432\u0430\u0435\u043c \u043b\u0438\u043c\u0438\u0442 \u043f\u043e \u043e\u0441\u0438 Y"
     ],
     "language": "python",
     "metadata": {},
     "outputs": [
      {
       "metadata": {},
       "output_type": "pyout",
       "prompt_number": 27,
       "text": [
        "(0.0, 325000.0)"
       ]
      },
      {
       "metadata": {},
       "output_type": "display_data",
       "png": "[encoded data removed]",
       "text": [
        "<matplotlib.figure.Figure at 0x74d52d0>"
       ]
      }
     ],
     "prompt_number": 27
    },
    {
     "cell_type": "markdown",
     "metadata": {},
     "source": [
      "\u0412 \u044d\u0442\u043e\u0442 \u043c\u043e\u043c\u0435\u043d\u0442 \u0432\u0441\u0435 \u0434\u043e\u043b\u0436\u043d\u044b \u043d\u0430\u0447\u0430\u0442\u044c \u043e\u0445\u0430\u0442\u044c \u0438 \u0430\u0445\u0430\u0442\u044c. \u041a\u0440\u0438\u0432\u0430\u044f \u0432\u0440\u0430\u0449\u0435\u043d\u0438\u044f \u043f\u0440\u0430\u043a\u0442\u0438\u0447\u0435\u0441\u043a\u0438 \u043f\u043b\u043e\u0441\u043a\u0430\u044f, \u0430 \u043d\u0435 \u0433\u0438\u043f\u0435\u0440\u0431\u043e\u043b\u0430, \u043a\u0430\u043a \u0432 \u0441\u043b\u0443\u0447\u0430\u0435 \u0421\u043e\u043b\u043d\u0435\u0447\u043d\u043e\u0439 \u0441\u0438\u0441\u0442\u0435\u043c\u044b! \u0414\u043b\u044f \u043f\u0440\u043e\u0432\u0435\u0440\u043a\u0438 \u0441\u0440\u0430\u0432\u043d\u0438\u043c \u0435\u0451 \u0441 \u043a\u0440\u0438\u0432\u043e\u0439 \u0432\u0440\u0430\u0449\u0435\u043d\u0438\u044f, \u043f\u043e\u043b\u0443\u0447\u0435\u043d\u043d\u043e\u0439 \u0432 \u0440\u0435\u0430\u043b\u044c\u043d\u043e\u0439 \u043d\u0430\u0446\u0447\u043d\u043e\u0439 \u0441\u0442\u0430\u0442\u044c\u0435:\n"
     ]
    },
    {
     "cell_type": "code",
     "collapsed": false,
     "input": [
      "Image(filename='pictures/gal_rot_curve.png')"
     ],
     "language": "python",
     "metadata": {},
     "outputs": [
      {
       "metadata": {},
       "output_type": "pyout",
       "png": "[encoded data removed]",
       "prompt_number": 29,
       "text": [
        "<IPython.core.display.Image at 0x741c5d0>"
       ]
      }
     ],
     "prompt_number": 29
    },
    {
     "cell_type": "markdown",
     "metadata": {},
     "source": [
      "*The rotation curve of the Milky Way Galaxy. The IAU standard values of Ro = 8.5 kpc and Qo = 220 km/s have been assumed. (Figure reproduced from Clemens (1985), Ap. J. 295, 422.)*"
     ]
    },
    {
     "cell_type": "markdown",
     "metadata": {},
     "source": [
      "\u0427\u0442\u043e \u0434\u0430\u043b\u044c\u0448\u0435?\n",
      "-----------\n",
      "\n",
      "1. \u041a\u0430\u043a\u043e\u0435 \u0440\u0430\u0441\u043f\u0440\u0435\u0434\u0435\u043b\u0435\u043d\u0438\u0435 \u043c\u0430\u0441\u0441\u044b \u0441\u043e\u043e\u0442\u0432\u0435\u0442\u0441\u0442\u0432\u0443\u0435\u0442 \u0442\u0430\u043a\u043e\u0439 \u043a\u0440\u0438\u0432\u043e\u0439 \u0432\u0440\u0430\u0449\u0435\u043d\u0438\u044f? \u0415\u0441\u043b\u0438 \u0431\u044b \u043c\u0430\u0441\u0441\u0430 \u0431\u044b\u043b\u0430 \u0431\u044b \u0441\u043e\u0441\u0440\u0435\u0434\u043e\u0442\u043e\u0447\u0435\u043d\u0430 \u0432 \u0446\u0435\u043d\u0442\u0440\u0435 (\u043a\u0430\u043a \u0432 \u0441\u043b\u0443\u0447\u0430\u0435 \u0421\u043e\u043b\u043d\u0435\u0447\u043d\u043e\u0439 \u0441\u0438\u0441\u0442\u0435\u043c\u044b), \u0442\u043e \u043c\u044b \u0431\u044b \u0432\u0438\u0434\u0435\u043b\u0438 \u0433\u0438\u043f\u0435\u0440\u0431\u043e\u043b\u0443.\n",
      "2. \u041a\u0430\u043a \u0438\u0437\u043c\u0435\u0440\u0438\u0442\u044c \u0441\u043a\u043e\u0440\u043e\u0441\u0442\u044c \u0421\u043e\u043b\u043d\u0446\u0430 \u0438 \u0440\u0430\u0441\u0441\u0442\u043e\u044f\u043d\u0438\u0435 \u0434\u043e \u0446\u0435\u043d\u0442\u0440\u0430 \u0413\u0430\u043b\u0430\u043a\u0442\u0438\u043a\u0438? \u041c\u044b \u0432\u0437\u044f\u043b\u0438 \u0438\u0445 \u0440\u0430\u0432\u043d\u044b\u043c\u0438 220\u00d7103\u043c/\u0441 \u0438 8.5\u043a\u043f\u0441 \u0441\u043e\u043e\u0442\u0432\u0435\u0442\u0441\u0442\u0432\u0435\u043d\u043d\u043e, \u043d\u043e \u043d\u0435 \u043f\u043e\u043c\u0435\u0448\u0430\u043b\u043e \u0431\u044b \u0438\u0445 \u0438\u0437\u043c\u0435\u0440\u0438\u0442\u044c. \u0414\u043b\u044f \u044d\u0442\u043e\u0433\u043e \u0443 \u043d\u0430\u0441 \u0431\u0443\u0434\u0435\u0442 \u043e\u0442\u0434\u0435\u043b\u044c\u043d\u0430\u044f \u043b\u0430\u0431\u043e\u0440\u0430\u0442\u043e\u0440\u043d\u0430\u044f.\n",
      "3. \u041a\u0430\u043a \u0438\u0437 \u0420\u0438\u0441. 4 \u0432\u044b\u0447\u043b\u0435\u043d\u0438\u0442\u044c \u0440\u0443\u043a\u0430\u0432\u0430 \u0413\u0430\u043b\u0430\u043a\u0442\u0438\u043a\u0438.\n",
      "4. \u0421\u043c\u043e\u0436\u0435\u043c \u043b\u0438 \u043c\u044b \u043f\u0440\u043e\u043d\u0430\u0431\u043b\u044e\u0434\u0430\u0442\u044c \u043a\u0440\u0438\u0432\u0443\u044e \u0432\u0440\u0430\u0449\u0435\u043d\u0438\u044f \u0432 \u0434\u0440\u0443\u0433\u0438\u0445 \u0413\u0430\u043b\u0430\u043a\u0442\u0438\u043a\u0430\u0445?"
     ]
    },
    {
     "cell_type": "code",
     "collapsed": false,
     "input": [],
     "language": "python",
     "metadata": {},
     "outputs": []
    }
   ],
   "metadata": {}
  }
 ]
}